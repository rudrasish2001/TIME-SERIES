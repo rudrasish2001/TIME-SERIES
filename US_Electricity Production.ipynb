{
 "cells": [
  {
   "cell_type": "code",
   "execution_count": 1,
   "id": "dbc149f6",
   "metadata": {},
   "outputs": [],
   "source": [
    "import pandas as pd\n",
    "import numpy as np\n",
    "import matplotlib.pylab as plt\n",
    "from matplotlib.pylab import rcParams\n",
    "rcParams['figure.figsize'] = 15,6"
   ]
  },
  {
   "cell_type": "code",
   "execution_count": 2,
   "id": "9fbd8c89",
   "metadata": {},
   "outputs": [
    {
     "data": {
      "text/html": [
       "<div>\n",
       "<style scoped>\n",
       "    .dataframe tbody tr th:only-of-type {\n",
       "        vertical-align: middle;\n",
       "    }\n",
       "\n",
       "    .dataframe tbody tr th {\n",
       "        vertical-align: top;\n",
       "    }\n",
       "\n",
       "    .dataframe thead th {\n",
       "        text-align: right;\n",
       "    }\n",
       "</style>\n",
       "<table border=\"1\" class=\"dataframe\">\n",
       "  <thead>\n",
       "    <tr style=\"text-align: right;\">\n",
       "      <th></th>\n",
       "      <th>IPG2211A2N</th>\n",
       "    </tr>\n",
       "    <tr>\n",
       "      <th>DATE</th>\n",
       "      <th></th>\n",
       "    </tr>\n",
       "  </thead>\n",
       "  <tbody>\n",
       "    <tr>\n",
       "      <th>1939-01-01</th>\n",
       "      <td>3.3842</td>\n",
       "    </tr>\n",
       "    <tr>\n",
       "      <th>1939-02-01</th>\n",
       "      <td>3.4100</td>\n",
       "    </tr>\n",
       "    <tr>\n",
       "      <th>1939-03-01</th>\n",
       "      <td>3.4875</td>\n",
       "    </tr>\n",
       "    <tr>\n",
       "      <th>1939-04-01</th>\n",
       "      <td>3.5133</td>\n",
       "    </tr>\n",
       "    <tr>\n",
       "      <th>1939-05-01</th>\n",
       "      <td>3.5133</td>\n",
       "    </tr>\n",
       "  </tbody>\n",
       "</table>\n",
       "</div>"
      ],
      "text/plain": [
       "            IPG2211A2N\n",
       "DATE                  \n",
       "1939-01-01      3.3842\n",
       "1939-02-01      3.4100\n",
       "1939-03-01      3.4875\n",
       "1939-04-01      3.5133\n",
       "1939-05-01      3.5133"
      ]
     },
     "execution_count": 2,
     "metadata": {},
     "output_type": "execute_result"
    }
   ],
   "source": [
    "data = pd.read_csv(\"Electric_Production.csv\",index_col=0)\n",
    "data.head()"
   ]
  },
  {
   "cell_type": "code",
   "execution_count": 3,
   "id": "91323f21",
   "metadata": {},
   "outputs": [
    {
     "data": {
      "text/plain": [
       "Index(['1939-01-01', '1939-02-01', '1939-03-01', '1939-04-01', '1939-05-01',\n",
       "       '1939-06-01', '1939-07-01', '1939-08-01', '1939-09-01', '1939-10-01',\n",
       "       ...\n",
       "       '2017-09-01', '2017-10-01', '2017-11-01', '2017-12-01', '2018-01-01',\n",
       "       '2018-02-01', '2018-03-01', '2018-04-01', '2018-05-01', '2018-06-01'],\n",
       "      dtype='object', name='DATE', length=954)"
      ]
     },
     "execution_count": 3,
     "metadata": {},
     "output_type": "execute_result"
    }
   ],
   "source": [
    "data.index"
   ]
  },
  {
   "cell_type": "code",
   "execution_count": 4,
   "id": "bcab37ee",
   "metadata": {},
   "outputs": [],
   "source": [
    "# Renaming column \n",
    "data.columns = ['Energy Production']"
   ]
  },
  {
   "cell_type": "code",
   "execution_count": 5,
   "id": "d5186992",
   "metadata": {},
   "outputs": [
    {
     "data": {
      "text/html": [
       "<div>\n",
       "<style scoped>\n",
       "    .dataframe tbody tr th:only-of-type {\n",
       "        vertical-align: middle;\n",
       "    }\n",
       "\n",
       "    .dataframe tbody tr th {\n",
       "        vertical-align: top;\n",
       "    }\n",
       "\n",
       "    .dataframe thead th {\n",
       "        text-align: right;\n",
       "    }\n",
       "</style>\n",
       "<table border=\"1\" class=\"dataframe\">\n",
       "  <thead>\n",
       "    <tr style=\"text-align: right;\">\n",
       "      <th></th>\n",
       "      <th>Energy Production</th>\n",
       "    </tr>\n",
       "    <tr>\n",
       "      <th>DATE</th>\n",
       "      <th></th>\n",
       "    </tr>\n",
       "  </thead>\n",
       "  <tbody>\n",
       "    <tr>\n",
       "      <th>1939-01-01</th>\n",
       "      <td>3.3842</td>\n",
       "    </tr>\n",
       "    <tr>\n",
       "      <th>1939-02-01</th>\n",
       "      <td>3.4100</td>\n",
       "    </tr>\n",
       "    <tr>\n",
       "      <th>1939-03-01</th>\n",
       "      <td>3.4875</td>\n",
       "    </tr>\n",
       "    <tr>\n",
       "      <th>1939-04-01</th>\n",
       "      <td>3.5133</td>\n",
       "    </tr>\n",
       "    <tr>\n",
       "      <th>1939-05-01</th>\n",
       "      <td>3.5133</td>\n",
       "    </tr>\n",
       "  </tbody>\n",
       "</table>\n",
       "</div>"
      ],
      "text/plain": [
       "            Energy Production\n",
       "DATE                         \n",
       "1939-01-01             3.3842\n",
       "1939-02-01             3.4100\n",
       "1939-03-01             3.4875\n",
       "1939-04-01             3.5133\n",
       "1939-05-01             3.5133"
      ]
     },
     "execution_count": 5,
     "metadata": {},
     "output_type": "execute_result"
    }
   ],
   "source": [
    "data.head()"
   ]
  },
  {
   "cell_type": "code",
   "execution_count": 6,
   "id": "c4c52476",
   "metadata": {},
   "outputs": [
    {
     "data": {
      "text/plain": [
       "(954, 1)"
      ]
     },
     "execution_count": 6,
     "metadata": {},
     "output_type": "execute_result"
    }
   ],
   "source": [
    "data.shape"
   ]
  },
  {
   "cell_type": "code",
   "execution_count": 7,
   "id": "2ee13947",
   "metadata": {},
   "outputs": [],
   "source": [
    "data.index = pd.to_datetime(data.index)"
   ]
  },
  {
   "cell_type": "code",
   "execution_count": 8,
   "id": "6008ac8e",
   "metadata": {},
   "outputs": [
    {
     "data": {
      "text/plain": [
       "DatetimeIndex(['1939-01-01', '1939-02-01', '1939-03-01', '1939-04-01',\n",
       "               '1939-05-01', '1939-06-01', '1939-07-01', '1939-08-01',\n",
       "               '1939-09-01', '1939-10-01',\n",
       "               ...\n",
       "               '2017-09-01', '2017-10-01', '2017-11-01', '2017-12-01',\n",
       "               '2018-01-01', '2018-02-01', '2018-03-01', '2018-04-01',\n",
       "               '2018-05-01', '2018-06-01'],\n",
       "              dtype='datetime64[ns]', name='DATE', length=954, freq=None)"
      ]
     },
     "execution_count": 8,
     "metadata": {},
     "output_type": "execute_result"
    }
   ],
   "source": [
    "data.index"
   ]
  },
  {
   "cell_type": "code",
   "execution_count": 9,
   "id": "bb21515f",
   "metadata": {},
   "outputs": [
    {
     "name": "stdout",
     "output_type": "stream",
     "text": [
      "<class 'pandas.core.frame.DataFrame'>\n",
      "DatetimeIndex: 954 entries, 1939-01-01 to 2018-06-01\n",
      "Data columns (total 1 columns):\n",
      " #   Column             Non-Null Count  Dtype  \n",
      "---  ------             --------------  -----  \n",
      " 0   Energy Production  954 non-null    float64\n",
      "dtypes: float64(1)\n",
      "memory usage: 14.9 KB\n"
     ]
    }
   ],
   "source": [
    "data.info()"
   ]
  },
  {
   "cell_type": "code",
   "execution_count": 15,
   "id": "9db6c9fb",
   "metadata": {},
   "outputs": [
    {
     "name": "stdout",
     "output_type": "stream",
     "text": [
      "Collecting pmdarima\n",
      "  Downloading pmdarima-1.8.2-cp38-cp38-macosx_10_15_x86_64.whl (592 kB)\n",
      "\u001b[K     |████████████████████████████████| 592 kB 515 kB/s eta 0:00:01\n",
      "\u001b[?25hRequirement already satisfied: statsmodels!=0.12.0,>=0.11 in /Library/anaconda3/lib/python3.8/site-packages (from pmdarima) (0.12.2)\n",
      "Collecting numpy~=1.19.0\n",
      "  Downloading numpy-1.19.5-cp38-cp38-macosx_10_9_x86_64.whl (15.6 MB)\n",
      "\u001b[K     |████████████████████████████████| 15.6 MB 1.3 MB/s eta 0:00:01\n",
      "\u001b[?25hRequirement already satisfied: setuptools!=50.0.0,>=38.6.0 in /Library/anaconda3/lib/python3.8/site-packages (from pmdarima) (52.0.0.post20210125)\n",
      "Requirement already satisfied: joblib>=0.11 in /Library/anaconda3/lib/python3.8/site-packages (from pmdarima) (1.0.1)\n",
      "Requirement already satisfied: Cython!=0.29.18,>=0.29 in /Library/anaconda3/lib/python3.8/site-packages (from pmdarima) (0.29.23)\n",
      "Requirement already satisfied: scipy>=1.3.2 in /Library/anaconda3/lib/python3.8/site-packages (from pmdarima) (1.6.2)\n",
      "Requirement already satisfied: scikit-learn>=0.22 in /Library/anaconda3/lib/python3.8/site-packages (from pmdarima) (0.24.1)\n",
      "Requirement already satisfied: pandas>=0.19 in /Library/anaconda3/lib/python3.8/site-packages (from pmdarima) (1.2.4)\n",
      "Requirement already satisfied: urllib3 in /Library/anaconda3/lib/python3.8/site-packages (from pmdarima) (1.26.4)\n",
      "Requirement already satisfied: python-dateutil>=2.7.3 in /Library/anaconda3/lib/python3.8/site-packages (from pandas>=0.19->pmdarima) (2.8.1)\n",
      "Requirement already satisfied: pytz>=2017.3 in /Library/anaconda3/lib/python3.8/site-packages (from pandas>=0.19->pmdarima) (2021.1)\n",
      "Requirement already satisfied: six>=1.5 in /Library/anaconda3/lib/python3.8/site-packages (from python-dateutil>=2.7.3->pandas>=0.19->pmdarima) (1.15.0)\n",
      "Requirement already satisfied: threadpoolctl>=2.0.0 in /Library/anaconda3/lib/python3.8/site-packages (from scikit-learn>=0.22->pmdarima) (2.1.0)\n",
      "Requirement already satisfied: patsy>=0.5 in /Library/anaconda3/lib/python3.8/site-packages (from statsmodels!=0.12.0,>=0.11->pmdarima) (0.5.1)\n",
      "Installing collected packages: numpy, pmdarima\n",
      "  Attempting uninstall: numpy\n",
      "    Found existing installation: numpy 1.20.1\n",
      "    Uninstalling numpy-1.20.1:\n",
      "      Successfully uninstalled numpy-1.20.1\n",
      "Successfully installed numpy-1.19.5 pmdarima-1.8.2\n"
     ]
    }
   ],
   "source": [
    "!pip install pmdarima"
   ]
  },
  {
   "cell_type": "code",
   "execution_count": 16,
   "id": "1bb9f2c9",
   "metadata": {},
   "outputs": [
    {
     "name": "stdout",
     "output_type": "stream",
     "text": [
      "Performing stepwise search to minimize aic\n",
      " ARIMA(0,1,1)(1,1,1)[12]             : AIC=3849.507, Time=0.50 sec\n",
      " ARIMA(0,1,0)(0,1,0)[12]             : AIC=4226.662, Time=0.05 sec\n",
      " ARIMA(1,1,0)(1,1,0)[12]             : AIC=4048.141, Time=0.19 sec\n",
      " ARIMA(0,1,1)(0,1,1)[12]             : AIC=3850.307, Time=0.36 sec\n",
      " ARIMA(0,1,1)(1,1,0)[12]             : AIC=4011.125, Time=0.15 sec\n",
      " ARIMA(0,1,1)(2,1,1)[12]             : AIC=3824.436, Time=1.58 sec\n",
      " ARIMA(0,1,1)(2,1,0)[12]             : AIC=3899.506, Time=0.66 sec\n",
      " ARIMA(0,1,1)(2,1,2)[12]             : AIC=3789.730, Time=5.50 sec\n",
      " ARIMA(0,1,1)(1,1,2)[12]             : AIC=3844.227, Time=2.04 sec\n",
      " ARIMA(0,1,0)(2,1,2)[12]             : AIC=3870.108, Time=4.45 sec\n",
      " ARIMA(1,1,1)(2,1,2)[12]             : AIC=3690.617, Time=5.48 sec\n",
      " ARIMA(1,1,1)(1,1,2)[12]             : AIC=3722.200, Time=3.36 sec\n",
      " ARIMA(1,1,1)(2,1,1)[12]             : AIC=3705.062, Time=1.94 sec\n",
      " ARIMA(1,1,1)(1,1,1)[12]             : AIC=3728.477, Time=0.78 sec\n",
      " ARIMA(1,1,0)(2,1,2)[12]             : AIC=3832.019, Time=5.16 sec\n",
      " ARIMA(2,1,1)(2,1,2)[12]             : AIC=3690.547, Time=6.02 sec\n",
      " ARIMA(2,1,1)(1,1,2)[12]             : AIC=3718.849, Time=4.89 sec\n",
      " ARIMA(2,1,1)(2,1,1)[12]             : AIC=3701.513, Time=2.99 sec\n",
      " ARIMA(2,1,1)(1,1,1)[12]             : AIC=3725.593, Time=1.18 sec\n",
      " ARIMA(2,1,0)(2,1,2)[12]             : AIC=3769.261, Time=5.79 sec\n",
      " ARIMA(3,1,1)(2,1,2)[12]             : AIC=3687.480, Time=6.01 sec\n",
      " ARIMA(3,1,1)(1,1,2)[12]             : AIC=3715.432, Time=5.38 sec\n",
      " ARIMA(3,1,1)(2,1,1)[12]             : AIC=3698.356, Time=3.51 sec\n",
      " ARIMA(3,1,1)(1,1,1)[12]             : AIC=3722.031, Time=1.44 sec\n",
      " ARIMA(3,1,0)(2,1,2)[12]             : AIC=3762.332, Time=7.71 sec\n",
      " ARIMA(3,1,2)(2,1,2)[12]             : AIC=3688.154, Time=11.79 sec\n",
      " ARIMA(2,1,2)(2,1,2)[12]             : AIC=3688.924, Time=9.01 sec\n",
      " ARIMA(3,1,1)(2,1,2)[12] intercept   : AIC=3693.548, Time=26.08 sec\n",
      "\n",
      "Best model:  ARIMA(3,1,1)(2,1,2)[12]          \n",
      "Total fit time: 124.018 seconds\n",
      "3687.48034801993\n"
     ]
    }
   ],
   "source": [
    "# Importing auto_arima from pmdarima\n",
    "from pmdarima.arima import auto_arima\n",
    "stepwise_model = auto_arima(data,start_=1,start_q=1,\n",
    "                           max_p=3,max_q=3,m=12,\n",
    "                           start_p=0,seasonal=True,\n",
    "                           d=1,D=1,trace=True,\n",
    "                           error_action='ignore',\n",
    "                           suppress_warnings=True,\n",
    "                           stepwise=True)\n",
    "print(stepwise_model.aic())"
   ]
  },
  {
   "cell_type": "code",
   "execution_count": 17,
   "id": "2416e98b",
   "metadata": {},
   "outputs": [
    {
     "data": {
      "text/html": [
       "<div>\n",
       "<style scoped>\n",
       "    .dataframe tbody tr th:only-of-type {\n",
       "        vertical-align: middle;\n",
       "    }\n",
       "\n",
       "    .dataframe tbody tr th {\n",
       "        vertical-align: top;\n",
       "    }\n",
       "\n",
       "    .dataframe thead th {\n",
       "        text-align: right;\n",
       "    }\n",
       "</style>\n",
       "<table border=\"1\" class=\"dataframe\">\n",
       "  <thead>\n",
       "    <tr style=\"text-align: right;\">\n",
       "      <th></th>\n",
       "      <th>Energy Production</th>\n",
       "    </tr>\n",
       "  </thead>\n",
       "  <tbody>\n",
       "    <tr>\n",
       "      <th>Energy Production</th>\n",
       "      <td>1.0</td>\n",
       "    </tr>\n",
       "  </tbody>\n",
       "</table>\n",
       "</div>"
      ],
      "text/plain": [
       "                   Energy Production\n",
       "Energy Production                1.0"
      ]
     },
     "execution_count": 17,
     "metadata": {},
     "output_type": "execute_result"
    }
   ],
   "source": [
    "corrmat = data.corr()\n",
    "corrmat"
   ]
  },
  {
   "cell_type": "code",
   "execution_count": 37,
   "id": "f2aee80c",
   "metadata": {},
   "outputs": [
    {
     "data": {
      "text/plain": [
       "<AxesSubplot:>"
      ]
     },
     "execution_count": 37,
     "metadata": {},
     "output_type": "execute_result"
    },
    {
     "data": {
      "image/png": "[encoded data removed]",
      "text/plain": [
       "<Figure size 864x720 with 2 Axes>"
      ]
     },
     "metadata": {
      "needs_background": "light"
     },
     "output_type": "display_data"
    }
   ],
   "source": [
    "import seaborn as sns\n",
    "top_corr_features = corrmat.index\n",
    "plt.figure(figsize=(12,10))\n",
    "sns.heatmap(data[top_corr_features].corr(), annot=True, cmap='rocket_r',linecolor='white',linewidth=3)"
   ]
  },
  {
   "cell_type": "code",
   "execution_count": 18,
   "id": "2588daba",
   "metadata": {},
   "outputs": [
    {
     "data": {
      "text/plain": [
       "3687.48034801993"
      ]
     },
     "execution_count": 18,
     "metadata": {},
     "output_type": "execute_result"
    }
   ],
   "source": [
    "stepwise_model.aic()"
   ]
  },
  {
   "cell_type": "code",
   "execution_count": 19,
   "id": "26674e6c",
   "metadata": {},
   "outputs": [],
   "source": [
    "# Converting data into statinary time series\n",
    "data2 = np.log(data) # Converting into log data"
   ]
  },
  {
   "cell_type": "code",
   "execution_count": 20,
   "id": "3af99460",
   "metadata": {},
   "outputs": [
    {
     "data": {
      "text/html": [
       "<div>\n",
       "<style scoped>\n",
       "    .dataframe tbody tr th:only-of-type {\n",
       "        vertical-align: middle;\n",
       "    }\n",
       "\n",
       "    .dataframe tbody tr th {\n",
       "        vertical-align: top;\n",
       "    }\n",
       "\n",
       "    .dataframe thead th {\n",
       "        text-align: right;\n",
       "    }\n",
       "</style>\n",
       "<table border=\"1\" class=\"dataframe\">\n",
       "  <thead>\n",
       "    <tr style=\"text-align: right;\">\n",
       "      <th></th>\n",
       "      <th>Energy Production</th>\n",
       "    </tr>\n",
       "    <tr>\n",
       "      <th>DATE</th>\n",
       "      <th></th>\n",
       "    </tr>\n",
       "  </thead>\n",
       "  <tbody>\n",
       "    <tr>\n",
       "      <th>1939-01-01</th>\n",
       "      <td>1.219118</td>\n",
       "    </tr>\n",
       "    <tr>\n",
       "      <th>1939-02-01</th>\n",
       "      <td>1.226712</td>\n",
       "    </tr>\n",
       "    <tr>\n",
       "      <th>1939-03-01</th>\n",
       "      <td>1.249185</td>\n",
       "    </tr>\n",
       "    <tr>\n",
       "      <th>1939-04-01</th>\n",
       "      <td>1.256556</td>\n",
       "    </tr>\n",
       "    <tr>\n",
       "      <th>1939-05-01</th>\n",
       "      <td>1.256556</td>\n",
       "    </tr>\n",
       "  </tbody>\n",
       "</table>\n",
       "</div>"
      ],
      "text/plain": [
       "            Energy Production\n",
       "DATE                         \n",
       "1939-01-01           1.219118\n",
       "1939-02-01           1.226712\n",
       "1939-03-01           1.249185\n",
       "1939-04-01           1.256556\n",
       "1939-05-01           1.256556"
      ]
     },
     "execution_count": 20,
     "metadata": {},
     "output_type": "execute_result"
    }
   ],
   "source": [
    "data2.head()"
   ]
  },
  {
   "cell_type": "code",
   "execution_count": 21,
   "id": "54b620e4",
   "metadata": {},
   "outputs": [],
   "source": [
    "train = data2.loc['1939-01-01':'2016-12-01']\n",
    "test = data2.loc['2016-01-01':]"
   ]
  },
  {
   "cell_type": "code",
   "execution_count": 22,
   "id": "fed1099d",
   "metadata": {},
   "outputs": [
    {
     "data": {
      "text/html": [
       "<div>\n",
       "<style scoped>\n",
       "    .dataframe tbody tr th:only-of-type {\n",
       "        vertical-align: middle;\n",
       "    }\n",
       "\n",
       "    .dataframe tbody tr th {\n",
       "        vertical-align: top;\n",
       "    }\n",
       "\n",
       "    .dataframe thead th {\n",
       "        text-align: right;\n",
       "    }\n",
       "</style>\n",
       "<table border=\"1\" class=\"dataframe\">\n",
       "  <thead>\n",
       "    <tr style=\"text-align: right;\">\n",
       "      <th></th>\n",
       "      <th>Energy Production</th>\n",
       "    </tr>\n",
       "    <tr>\n",
       "      <th>DATE</th>\n",
       "      <th></th>\n",
       "    </tr>\n",
       "  </thead>\n",
       "  <tbody>\n",
       "    <tr>\n",
       "      <th>1939-01-01</th>\n",
       "      <td>1.219118</td>\n",
       "    </tr>\n",
       "    <tr>\n",
       "      <th>1939-02-01</th>\n",
       "      <td>1.226712</td>\n",
       "    </tr>\n",
       "    <tr>\n",
       "      <th>1939-03-01</th>\n",
       "      <td>1.249185</td>\n",
       "    </tr>\n",
       "    <tr>\n",
       "      <th>1939-04-01</th>\n",
       "      <td>1.256556</td>\n",
       "    </tr>\n",
       "    <tr>\n",
       "      <th>1939-05-01</th>\n",
       "      <td>1.256556</td>\n",
       "    </tr>\n",
       "  </tbody>\n",
       "</table>\n",
       "</div>"
      ],
      "text/plain": [
       "            Energy Production\n",
       "DATE                         \n",
       "1939-01-01           1.219118\n",
       "1939-02-01           1.226712\n",
       "1939-03-01           1.249185\n",
       "1939-04-01           1.256556\n",
       "1939-05-01           1.256556"
      ]
     },
     "execution_count": 22,
     "metadata": {},
     "output_type": "execute_result"
    }
   ],
   "source": [
    "train.head()"
   ]
  },
  {
   "cell_type": "code",
   "execution_count": 23,
   "id": "6a2be58e",
   "metadata": {},
   "outputs": [
    {
     "data": {
      "text/html": [
       "<div>\n",
       "<style scoped>\n",
       "    .dataframe tbody tr th:only-of-type {\n",
       "        vertical-align: middle;\n",
       "    }\n",
       "\n",
       "    .dataframe tbody tr th {\n",
       "        vertical-align: top;\n",
       "    }\n",
       "\n",
       "    .dataframe thead th {\n",
       "        text-align: right;\n",
       "    }\n",
       "</style>\n",
       "<table border=\"1\" class=\"dataframe\">\n",
       "  <thead>\n",
       "    <tr style=\"text-align: right;\">\n",
       "      <th></th>\n",
       "      <th>Energy Production</th>\n",
       "    </tr>\n",
       "    <tr>\n",
       "      <th>DATE</th>\n",
       "      <th></th>\n",
       "    </tr>\n",
       "  </thead>\n",
       "  <tbody>\n",
       "    <tr>\n",
       "      <th>2016-08-01</th>\n",
       "      <td>4.749101</td>\n",
       "    </tr>\n",
       "    <tr>\n",
       "      <th>2016-09-01</th>\n",
       "      <td>4.626763</td>\n",
       "    </tr>\n",
       "    <tr>\n",
       "      <th>2016-10-01</th>\n",
       "      <td>4.507477</td>\n",
       "    </tr>\n",
       "    <tr>\n",
       "      <th>2016-11-01</th>\n",
       "      <td>4.524756</td>\n",
       "    </tr>\n",
       "    <tr>\n",
       "      <th>2016-12-01</th>\n",
       "      <td>4.729683</td>\n",
       "    </tr>\n",
       "  </tbody>\n",
       "</table>\n",
       "</div>"
      ],
      "text/plain": [
       "            Energy Production\n",
       "DATE                         \n",
       "2016-08-01           4.749101\n",
       "2016-09-01           4.626763\n",
       "2016-10-01           4.507477\n",
       "2016-11-01           4.524756\n",
       "2016-12-01           4.729683"
      ]
     },
     "execution_count": 23,
     "metadata": {},
     "output_type": "execute_result"
    }
   ],
   "source": [
    "train.tail()"
   ]
  },
  {
   "cell_type": "code",
   "execution_count": 24,
   "id": "5c8961c5",
   "metadata": {},
   "outputs": [
    {
     "data": {
      "text/html": [
       "<div>\n",
       "<style scoped>\n",
       "    .dataframe tbody tr th:only-of-type {\n",
       "        vertical-align: middle;\n",
       "    }\n",
       "\n",
       "    .dataframe tbody tr th {\n",
       "        vertical-align: top;\n",
       "    }\n",
       "\n",
       "    .dataframe thead th {\n",
       "        text-align: right;\n",
       "    }\n",
       "</style>\n",
       "<table border=\"1\" class=\"dataframe\">\n",
       "  <thead>\n",
       "    <tr style=\"text-align: right;\">\n",
       "      <th></th>\n",
       "      <th>Energy Production</th>\n",
       "    </tr>\n",
       "    <tr>\n",
       "      <th>DATE</th>\n",
       "      <th></th>\n",
       "    </tr>\n",
       "  </thead>\n",
       "  <tbody>\n",
       "    <tr>\n",
       "      <th>2016-01-01</th>\n",
       "      <td>4.763991</td>\n",
       "    </tr>\n",
       "    <tr>\n",
       "      <th>2016-02-01</th>\n",
       "      <td>4.665832</td>\n",
       "    </tr>\n",
       "    <tr>\n",
       "      <th>2016-03-01</th>\n",
       "      <td>4.548298</td>\n",
       "    </tr>\n",
       "    <tr>\n",
       "      <th>2016-04-01</th>\n",
       "      <td>4.481619</td>\n",
       "    </tr>\n",
       "    <tr>\n",
       "      <th>2016-05-01</th>\n",
       "      <td>4.495620</td>\n",
       "    </tr>\n",
       "  </tbody>\n",
       "</table>\n",
       "</div>"
      ],
      "text/plain": [
       "            Energy Production\n",
       "DATE                         \n",
       "2016-01-01           4.763991\n",
       "2016-02-01           4.665832\n",
       "2016-03-01           4.548298\n",
       "2016-04-01           4.481619\n",
       "2016-05-01           4.495620"
      ]
     },
     "execution_count": 24,
     "metadata": {},
     "output_type": "execute_result"
    }
   ],
   "source": [
    "test.head()"
   ]
  },
  {
   "cell_type": "code",
   "execution_count": 25,
   "id": "04ba2e57",
   "metadata": {},
   "outputs": [
    {
     "data": {
      "text/html": [
       "<div>\n",
       "<style scoped>\n",
       "    .dataframe tbody tr th:only-of-type {\n",
       "        vertical-align: middle;\n",
       "    }\n",
       "\n",
       "    .dataframe tbody tr th {\n",
       "        vertical-align: top;\n",
       "    }\n",
       "\n",
       "    .dataframe thead th {\n",
       "        text-align: right;\n",
       "    }\n",
       "</style>\n",
       "<table border=\"1\" class=\"dataframe\">\n",
       "  <thead>\n",
       "    <tr style=\"text-align: right;\">\n",
       "      <th></th>\n",
       "      <th>Energy Production</th>\n",
       "    </tr>\n",
       "    <tr>\n",
       "      <th>DATE</th>\n",
       "      <th></th>\n",
       "    </tr>\n",
       "  </thead>\n",
       "  <tbody>\n",
       "    <tr>\n",
       "      <th>2018-02-01</th>\n",
       "      <td>4.672881</td>\n",
       "    </tr>\n",
       "    <tr>\n",
       "      <th>2018-03-01</th>\n",
       "      <td>4.638972</td>\n",
       "    </tr>\n",
       "    <tr>\n",
       "      <th>2018-04-01</th>\n",
       "      <td>4.534820</td>\n",
       "    </tr>\n",
       "    <tr>\n",
       "      <th>2018-05-01</th>\n",
       "      <td>4.548848</td>\n",
       "    </tr>\n",
       "    <tr>\n",
       "      <th>2018-06-01</th>\n",
       "      <td>4.652571</td>\n",
       "    </tr>\n",
       "  </tbody>\n",
       "</table>\n",
       "</div>"
      ],
      "text/plain": [
       "            Energy Production\n",
       "DATE                         \n",
       "2018-02-01           4.672881\n",
       "2018-03-01           4.638972\n",
       "2018-04-01           4.534820\n",
       "2018-05-01           4.548848\n",
       "2018-06-01           4.652571"
      ]
     },
     "execution_count": 25,
     "metadata": {},
     "output_type": "execute_result"
    }
   ],
   "source": [
    "test.tail()"
   ]
  },
  {
   "cell_type": "code",
   "execution_count": 26,
   "id": "da90f210",
   "metadata": {},
   "outputs": [
    {
     "data": {
      "text/plain": [
       "30"
      ]
     },
     "execution_count": 26,
     "metadata": {},
     "output_type": "execute_result"
    }
   ],
   "source": [
    "len(test)"
   ]
  },
  {
   "cell_type": "code",
   "execution_count": 27,
   "id": "58b1984d",
   "metadata": {},
   "outputs": [
    {
     "data": {
      "text/plain": [
       "ARIMA(order=(3, 1, 1), scoring_args={}, seasonal_order=(2, 1, 2, 12),\n",
       "      suppress_warnings=True, with_intercept=False)"
      ]
     },
     "execution_count": 27,
     "metadata": {},
     "output_type": "execute_result"
    }
   ],
   "source": [
    "stepwise_model.fit(train)"
   ]
  },
  {
   "cell_type": "code",
   "execution_count": 28,
   "id": "25bf7d1e",
   "metadata": {},
   "outputs": [],
   "source": [
    "future_forecast = stepwise_model.predict(n_periods = 30)"
   ]
  },
  {
   "cell_type": "code",
   "execution_count": 29,
   "id": "bf36d463",
   "metadata": {},
   "outputs": [
    {
     "data": {
      "text/plain": [
       "array([4.82511882, 4.72588903, 4.62403546, 4.52327896, 4.54483364,\n",
       "       4.66753755, 4.75625588, 4.75526852, 4.64859768, 4.54863356,\n",
       "       4.58304907, 4.73891401, 4.83030543, 4.74884486, 4.65370074,\n",
       "       4.54070274, 4.56020476, 4.68052137, 4.76867231, 4.76463882,\n",
       "       4.66229892, 4.56365599, 4.5969768 , 4.74168978, 4.8371092 ,\n",
       "       4.75392804, 4.6578069 , 4.54980823, 4.56884047, 4.69088614])"
      ]
     },
     "execution_count": 29,
     "metadata": {},
     "output_type": "execute_result"
    }
   ],
   "source": [
    "future_forecast"
   ]
  },
  {
   "cell_type": "code",
   "execution_count": 30,
   "id": "429b4745",
   "metadata": {},
   "outputs": [],
   "source": [
    "future_forecast = pd.DataFrame(future_forecast,index = test.index,columns = ['Prediction'])"
   ]
  },
  {
   "cell_type": "code",
   "execution_count": 31,
   "id": "03fc3372",
   "metadata": {},
   "outputs": [
    {
     "data": {
      "text/html": [
       "<div>\n",
       "<style scoped>\n",
       "    .dataframe tbody tr th:only-of-type {\n",
       "        vertical-align: middle;\n",
       "    }\n",
       "\n",
       "    .dataframe tbody tr th {\n",
       "        vertical-align: top;\n",
       "    }\n",
       "\n",
       "    .dataframe thead th {\n",
       "        text-align: right;\n",
       "    }\n",
       "</style>\n",
       "<table border=\"1\" class=\"dataframe\">\n",
       "  <thead>\n",
       "    <tr style=\"text-align: right;\">\n",
       "      <th></th>\n",
       "      <th>Prediction</th>\n",
       "    </tr>\n",
       "    <tr>\n",
       "      <th>DATE</th>\n",
       "      <th></th>\n",
       "    </tr>\n",
       "  </thead>\n",
       "  <tbody>\n",
       "    <tr>\n",
       "      <th>2016-01-01</th>\n",
       "      <td>4.825119</td>\n",
       "    </tr>\n",
       "    <tr>\n",
       "      <th>2016-02-01</th>\n",
       "      <td>4.725889</td>\n",
       "    </tr>\n",
       "    <tr>\n",
       "      <th>2016-03-01</th>\n",
       "      <td>4.624035</td>\n",
       "    </tr>\n",
       "    <tr>\n",
       "      <th>2016-04-01</th>\n",
       "      <td>4.523279</td>\n",
       "    </tr>\n",
       "    <tr>\n",
       "      <th>2016-05-01</th>\n",
       "      <td>4.544834</td>\n",
       "    </tr>\n",
       "  </tbody>\n",
       "</table>\n",
       "</div>"
      ],
      "text/plain": [
       "            Prediction\n",
       "DATE                  \n",
       "2016-01-01    4.825119\n",
       "2016-02-01    4.725889\n",
       "2016-03-01    4.624035\n",
       "2016-04-01    4.523279\n",
       "2016-05-01    4.544834"
      ]
     },
     "execution_count": 31,
     "metadata": {},
     "output_type": "execute_result"
    }
   ],
   "source": [
    "future_forecast.head()"
   ]
  },
  {
   "cell_type": "code",
   "execution_count": 32,
   "id": "f47d5c06",
   "metadata": {},
   "outputs": [
    {
     "data": {
      "text/html": [
       "<div>\n",
       "<style scoped>\n",
       "    .dataframe tbody tr th:only-of-type {\n",
       "        vertical-align: middle;\n",
       "    }\n",
       "\n",
       "    .dataframe tbody tr th {\n",
       "        vertical-align: top;\n",
       "    }\n",
       "\n",
       "    .dataframe thead th {\n",
       "        text-align: right;\n",
       "    }\n",
       "</style>\n",
       "<table border=\"1\" class=\"dataframe\">\n",
       "  <thead>\n",
       "    <tr style=\"text-align: right;\">\n",
       "      <th></th>\n",
       "      <th>Energy Production</th>\n",
       "    </tr>\n",
       "    <tr>\n",
       "      <th>DATE</th>\n",
       "      <th></th>\n",
       "    </tr>\n",
       "  </thead>\n",
       "  <tbody>\n",
       "    <tr>\n",
       "      <th>2016-01-01</th>\n",
       "      <td>4.763991</td>\n",
       "    </tr>\n",
       "    <tr>\n",
       "      <th>2016-02-01</th>\n",
       "      <td>4.665832</td>\n",
       "    </tr>\n",
       "    <tr>\n",
       "      <th>2016-03-01</th>\n",
       "      <td>4.548298</td>\n",
       "    </tr>\n",
       "    <tr>\n",
       "      <th>2016-04-01</th>\n",
       "      <td>4.481619</td>\n",
       "    </tr>\n",
       "    <tr>\n",
       "      <th>2016-05-01</th>\n",
       "      <td>4.495620</td>\n",
       "    </tr>\n",
       "  </tbody>\n",
       "</table>\n",
       "</div>"
      ],
      "text/plain": [
       "            Energy Production\n",
       "DATE                         \n",
       "2016-01-01           4.763991\n",
       "2016-02-01           4.665832\n",
       "2016-03-01           4.548298\n",
       "2016-04-01           4.481619\n",
       "2016-05-01           4.495620"
      ]
     },
     "execution_count": 32,
     "metadata": {},
     "output_type": "execute_result"
    }
   ],
   "source": [
    "test.head()"
   ]
  },
  {
   "cell_type": "code",
   "execution_count": 33,
   "id": "b63ec8d4",
   "metadata": {},
   "outputs": [
    {
     "data": {
      "text/plain": [
       "<AxesSubplot:xlabel='DATE'>"
      ]
     },
     "execution_count": 33,
     "metadata": {},
     "output_type": "execute_result"
    },
    {
     "data": {
      "image/png": "[encoded data removed]",
      "text/plain": [
       "<Figure size 1080x432 with 1 Axes>"
      ]
     },
     "metadata": {
      "needs_background": "light"
     },
     "output_type": "display_data"
    },
    {
     "data": {
      "image/png": "[encoded data removed]",
      "text/plain": [
       "<Figure size 1080x432 with 1 Axes>"
      ]
     },
     "metadata": {
      "needs_background": "light"
     },
     "output_type": "display_data"
    }
   ],
   "source": [
    "pd.concat([test,future_forecast],axis=0).plot()\n",
    "pd.concat([test,future_forecast],axis=1).plot()"
   ]
  },
  {
   "cell_type": "code",
   "execution_count": 34,
   "id": "12567410",
   "metadata": {},
   "outputs": [],
   "source": [
    "future_forecast2 = np.exp(future_forecast)"
   ]
  },
  {
   "cell_type": "code",
   "execution_count": 35,
   "id": "071e24bf",
   "metadata": {},
   "outputs": [
    {
     "data": {
      "text/plain": [
       "<AxesSubplot:xlabel='DATE'>"
      ]
     },
     "execution_count": 35,
     "metadata": {},
     "output_type": "execute_result"
    },
    {
     "data": {
      "image/png": "[encoded data removed]",
      "text/plain": [
       "<Figure size 1080x432 with 1 Axes>"
      ]
     },
     "metadata": {
      "needs_background": "light"
     },
     "output_type": "display_data"
    }
   ],
   "source": [
    "pd.concat([data,future_forecast2],axis=1).plot()"
   ]
  },
  {
   "cell_type": "code",
   "execution_count": 39,
   "id": "d2a687b5",
   "metadata": {},
   "outputs": [
    {
     "name": "stdout",
     "output_type": "stream",
     "text": [
      "r2score =  64.44952342323893 %\n"
     ]
    }
   ],
   "source": [
    "from sklearn.metrics import r2_score\n",
    "print(\"r2score = \",r2_score(np.exp(test),future_forecast2)*100,'%')"
   ]
  },
  {
   "cell_type": "code",
   "execution_count": null,
   "id": "c8677ea9",
   "metadata": {},
   "outputs": [],
   "source": []
  }
 ],
 "metadata": {
  "kernelspec": {
   "display_name": "Python 3",
   "language": "python",
   "name": "python3"
  },
  "language_info": {
   "codemirror_mode": {
    "name": "ipython",
    "version": 3
   },
   "file_extension": ".py",
   "mimetype": "text/x-python",
   "name": "python",
   "nbconvert_exporter": "python",
   "pygments_lexer": "ipython3",
   "version": "3.8.8"
  }
 },
 "nbformat": 4,
 "nbformat_minor": 5
}
